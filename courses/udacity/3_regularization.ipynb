{
 "cells": [
  {
   "cell_type": "markdown",
   "metadata": {
    "colab_type": "text",
    "deletable": true,
    "editable": true,
    "id": "kR-4eNdK6lYS"
   },
   "source": [
    "Deep Learning\n",
    "=============\n",
    "\n",
    "Assignment 3\n",
    "------------\n",
    "\n",
    "Previously in `2_fullyconnected.ipynb`, you trained a logistic regression and a neural network model.\n",
    "\n",
    "The goal of this assignment is to explore regularization techniques."
   ]
  },
  {
   "cell_type": "code",
   "execution_count": 1,
   "metadata": {
    "cellView": "both",
    "colab": {
     "autoexec": {
      "startup": false,
      "wait_interval": 0.0
     }
    },
    "colab_type": "code",
    "collapsed": true,
    "deletable": true,
    "editable": true,
    "id": "JLpLa8Jt7Vu4"
   },
   "outputs": [],
   "source": [
    "# These are all the modules we'll be using later. Make sure you can import them\n",
    "# before proceeding further.\n",
    "from __future__ import print_function\n",
    "import numpy as np\n",
    "import tensorflow as tf\n",
    "from six.moves import cPickle as pickle"
   ]
  },
  {
   "cell_type": "markdown",
   "metadata": {
    "colab_type": "text",
    "deletable": true,
    "editable": true,
    "id": "1HrCK6e17WzV"
   },
   "source": [
    "First reload the data we generated in `1_notmnist.ipynb`."
   ]
  },
  {
   "cell_type": "code",
   "execution_count": 2,
   "metadata": {
    "cellView": "both",
    "colab": {
     "autoexec": {
      "startup": false,
      "wait_interval": 0.0
     },
     "output_extras": [
      {
       "item_id": 1.0
      }
     ]
    },
    "colab_type": "code",
    "collapsed": false,
    "deletable": true,
    "editable": true,
    "executionInfo": {
     "elapsed": 11777.0,
     "status": "ok",
     "timestamp": 1.449849322348E12,
     "user": {
      "color": "",
      "displayName": "",
      "isAnonymous": false,
      "isMe": true,
      "permissionId": "",
      "photoUrl": "",
      "sessionId": "0",
      "userId": ""
     },
     "user_tz": 480.0
    },
    "id": "y3-cj1bpmuxc",
    "outputId": "e03576f1-ebbe-4838-c388-f1777bcc9873"
   },
   "outputs": [
    {
     "name": "stdout",
     "output_type": "stream",
     "text": [
      "Training set (200000, 28, 28) (200000,)\n",
      "Validation set (10000, 28, 28) (10000,)\n",
      "Test set (10000, 28, 28) (10000,)\n"
     ]
    }
   ],
   "source": [
    "pickle_file = 'notMNIST.pickle'\n",
    "\n",
    "with open(pickle_file, 'rb') as f:\n",
    "  save = pickle.load(f)\n",
    "  train_dataset = save['train_dataset']\n",
    "  train_labels = save['train_labels']\n",
    "  valid_dataset = save['valid_dataset']\n",
    "  valid_labels = save['valid_labels']\n",
    "  test_dataset = save['test_dataset']\n",
    "  test_labels = save['test_labels']\n",
    "  del save  # hint to help gc free up memory\n",
    "  print('Training set', train_dataset.shape, train_labels.shape)\n",
    "  print('Validation set', valid_dataset.shape, valid_labels.shape)\n",
    "  print('Test set', test_dataset.shape, test_labels.shape)"
   ]
  },
  {
   "cell_type": "markdown",
   "metadata": {
    "colab_type": "text",
    "deletable": true,
    "editable": true,
    "id": "L7aHrm6nGDMB"
   },
   "source": [
    "Reformat into a shape that's more adapted to the models we're going to train:\n",
    "- data as a flat matrix,\n",
    "- labels as float 1-hot encodings."
   ]
  },
  {
   "cell_type": "code",
   "execution_count": 3,
   "metadata": {
    "cellView": "both",
    "colab": {
     "autoexec": {
      "startup": false,
      "wait_interval": 0.0
     },
     "output_extras": [
      {
       "item_id": 1.0
      }
     ]
    },
    "colab_type": "code",
    "collapsed": false,
    "deletable": true,
    "editable": true,
    "executionInfo": {
     "elapsed": 11728.0,
     "status": "ok",
     "timestamp": 1.449849322356E12,
     "user": {
      "color": "",
      "displayName": "",
      "isAnonymous": false,
      "isMe": true,
      "permissionId": "",
      "photoUrl": "",
      "sessionId": "0",
      "userId": ""
     },
     "user_tz": 480.0
    },
    "id": "IRSyYiIIGIzS",
    "outputId": "3f8996ee-3574-4f44-c953-5c8a04636582"
   },
   "outputs": [
    {
     "name": "stdout",
     "output_type": "stream",
     "text": [
      "Training set (200000, 784) (200000, 10)\n",
      "Validation set (10000, 784) (10000, 10)\n",
      "Test set (10000, 784) (10000, 10)\n"
     ]
    }
   ],
   "source": [
    "image_size = 28\n",
    "num_labels = 10\n",
    "\n",
    "def reformat(dataset, labels):\n",
    "  dataset = dataset.reshape((-1, image_size * image_size)).astype(np.float32)\n",
    "  # Map 1 to [0.0, 1.0, 0.0 ...], 2 to [0.0, 0.0, 1.0 ...]\n",
    "  labels = (np.arange(num_labels) == labels[:,None]).astype(np.float32)\n",
    "  return dataset, labels\n",
    "train_dataset, train_labels = reformat(train_dataset, train_labels)\n",
    "valid_dataset, valid_labels = reformat(valid_dataset, valid_labels)\n",
    "test_dataset, test_labels = reformat(test_dataset, test_labels)\n",
    "print('Training set', train_dataset.shape, train_labels.shape)\n",
    "print('Validation set', valid_dataset.shape, valid_labels.shape)\n",
    "print('Test set', test_dataset.shape, test_labels.shape)"
   ]
  },
  {
   "cell_type": "code",
   "execution_count": 4,
   "metadata": {
    "cellView": "both",
    "colab": {
     "autoexec": {
      "startup": false,
      "wait_interval": 0.0
     }
    },
    "colab_type": "code",
    "collapsed": true,
    "deletable": true,
    "editable": true,
    "id": "RajPLaL_ZW6w"
   },
   "outputs": [],
   "source": [
    "def accuracy(predictions, labels):\n",
    "  return (100.0 * np.sum(np.argmax(predictions, 1) == np.argmax(labels, 1))\n",
    "          / predictions.shape[0])"
   ]
  },
  {
   "cell_type": "markdown",
   "metadata": {
    "colab_type": "text",
    "deletable": true,
    "editable": true,
    "id": "sgLbUAQ1CW-1"
   },
   "source": [
    "---\n",
    "Problem 1\n",
    "---------\n",
    "\n",
    "Introduce and tune L2 regularization for both logistic and neural network models. Remember that L2 amounts to adding a penalty on the norm of the weights to the loss. In TensorFlow, you can compute the L2 loss for a tensor `t` using `nn.l2_loss(t)`. The right amount of regularization should improve your validation / test accuracy.\n",
    "\n",
    "---"
   ]
  },
  {
   "cell_type": "markdown",
   "metadata": {
    "deletable": true,
    "editable": true
   },
   "source": [
    "We'll start by introducing L2 regularization for our neural network from part 2. We need to learn the regularization parameter as well, so we'll introduce this as a new parameter into the system."
   ]
  },
  {
   "cell_type": "code",
   "execution_count": 6,
   "metadata": {
    "collapsed": false,
    "deletable": true,
    "editable": true
   },
   "outputs": [
    {
     "name": "stdout",
     "output_type": "stream",
     "text": [
      "Initialized\n",
      "Minibatch loss at step 0: 666.059204\n",
      "Minibatch accuracy: 9.4%\n",
      "Validation accuracy: 31.7%\n",
      "Minibatch loss at step 500: 198.517807\n",
      "Minibatch accuracy: 79.7%\n",
      "Validation accuracy: 79.0%\n",
      "Minibatch loss at step 1000: 114.694412\n",
      "Minibatch accuracy: 79.7%\n",
      "Validation accuracy: 81.3%\n",
      "Minibatch loss at step 1500: 68.085236\n",
      "Minibatch accuracy: 89.8%\n",
      "Validation accuracy: 83.5%\n",
      "Minibatch loss at step 2000: 41.256195\n",
      "Minibatch accuracy: 91.4%\n",
      "Validation accuracy: 84.6%\n",
      "Minibatch loss at step 2500: 25.160244\n",
      "Minibatch accuracy: 88.3%\n",
      "Validation accuracy: 85.7%\n",
      "Minibatch loss at step 3000: 15.459294\n",
      "Minibatch accuracy: 89.1%\n",
      "Validation accuracy: 86.8%\n",
      "Test accuracy: 93.0%\n"
     ]
    }
   ],
   "source": [
    "# Number of hidden nodes\n",
    "num_hidden_nodes = 1024\n",
    "batch_size = 128\n",
    "num_steps = 3001\n",
    "\n",
    "graph = tf.Graph()\n",
    "with graph.as_default():\n",
    "    # Input data.\n",
    "    # Load the training, validation and test data into constants that are\n",
    "    # attached to the graph.\n",
    "    tf_train_dataset = tf.placeholder(tf.float32,\n",
    "                                      shape=(batch_size, image_size * image_size))\n",
    "    tf_train_labels = tf.placeholder(tf.float32,\n",
    "                                     shape=(batch_size, num_labels))\n",
    "    tf_valid_dataset = tf.constant(valid_dataset)\n",
    "    tf_test_dataset = tf.constant(test_dataset)\n",
    "    # We will learn our regularization parameter, rather than hardcoding this\n",
    "    BETA_REG = tf.placeholder(tf.float32)\n",
    "    \n",
    "    # Variables for our hidden layer.\n",
    "    W1 = tf.Variable(\n",
    "        tf.truncated_normal([image_size * image_size, num_hidden_nodes]))\n",
    "    B1 = tf.Variable(tf.zeros([num_hidden_nodes]))\n",
    "    \n",
    "    # Our output layer variables, needs to have 10 neurons for our output\n",
    "    W2 = tf.Variable(\n",
    "        tf.truncated_normal([num_hidden_nodes, num_labels]))\n",
    "    B2 = tf.Variable(tf.zeros([10]))\n",
    "    \n",
    "    # Our hidden layer with relus\n",
    "    Y1 = tf.nn.relu(tf.matmul(tf_train_dataset, W1) + B1)\n",
    "  \n",
    "    # Our final layer with logits\n",
    "    Ylogits = tf.matmul(Y1, W2) + B2\n",
    "    \n",
    "    # Loss function (= cross entropy) we'll be minimising\n",
    "    # One function in TF to avoid numerical stability problems with log(0)\n",
    "    # This now includes L2 regularization for our weights: both\n",
    "    # hidden weights W1 and output weights W2 \n",
    "    loss = tf.reduce_mean(\n",
    "        tf.nn.softmax_cross_entropy_with_logits(labels=tf_train_labels, logits=Ylogits)) + \\\n",
    "        BETA_REG * (tf.nn.l2_loss(W1) + tf.nn.l2_loss(W2))\n",
    "  \n",
    "    # Optimizer.\n",
    "    optimizer = tf.train.GradientDescentOptimizer(0.5).minimize(loss)\n",
    "  \n",
    "    # Predictions for the training, validation, and test data.\n",
    "    train_prediction = tf.nn.softmax(Ylogits)\n",
    "    valid_prediction_hidden = tf.nn.relu(tf.matmul(tf_valid_dataset, W1) + B1)\n",
    "    valid_prediction = tf.nn.softmax(tf.matmul(valid_prediction_hidden, W2) + B2)\n",
    "    test_prediction_hidden = tf.nn.relu(tf.matmul(tf_test_dataset, W1) + B1)\n",
    "    test_prediction = tf.nn.softmax(tf.matmul(test_prediction_hidden, W2) + B2)\n",
    "\n",
    "with tf.Session(graph=graph) as session:\n",
    "    tf.global_variables_initializer().run()\n",
    "    print('Initialized')\n",
    "    \n",
    "    for step in range(num_steps):\n",
    "        offset = (step * batch_size) % (train_labels.shape[0] - batch_size)\n",
    "        batch_data = train_dataset[offset:(offset + batch_size), :]\n",
    "        batch_labels = train_labels[offset:(offset + batch_size), :]\n",
    "        feed_dict = {tf_train_dataset : batch_data, tf_train_labels : batch_labels, BETA_REG : 0.001}\n",
    "        # Run the computations. We tell .run() that we want to run the optimizer,\n",
    "        # and get the loss value and the training predictions returned as numpy\n",
    "        # arrays.\n",
    "        _, l, predictions = session.run(\n",
    "            [optimizer, loss, train_prediction], feed_dict=feed_dict)\n",
    "        if (step % 500 == 0):\n",
    "            print('Minibatch loss at step %d: %f' % (step, l))\n",
    "            print(\"Minibatch accuracy: %.1f%%\" % accuracy(predictions, batch_labels))\n",
    "            print(\"Validation accuracy: %.1f%%\" % accuracy(valid_prediction.eval(), valid_labels))\n",
    "    print(\"Test accuracy: %.1f%%\" % accuracy(test_prediction.eval(), test_labels))"
   ]
  },
  {
   "cell_type": "markdown",
   "metadata": {
    "deletable": true,
    "editable": true
   },
   "source": [
    "93%! Not bad, eh? "
   ]
  },
  {
   "cell_type": "markdown",
   "metadata": {
    "colab_type": "text",
    "deletable": true,
    "editable": true,
    "id": "na8xX2yHZzNF"
   },
   "source": [
    "---\n",
    "Problem 2\n",
    "---------\n",
    "Let's demonstrate an extreme case of overfitting. Restrict your training data to just a few batches. What happens?\n",
    "\n",
    "---"
   ]
  },
  {
   "cell_type": "code",
   "execution_count": 21,
   "metadata": {
    "collapsed": false,
    "deletable": true,
    "editable": true
   },
   "outputs": [
    {
     "name": "stdout",
     "output_type": "stream",
     "text": [
      "Initialized\n",
      "Minibatch loss at step 0: 366.046326\n",
      "Minibatch accuracy: 10.2%\n",
      "Validation accuracy: 31.9%\n",
      "Minibatch loss at step 10: 59.842346\n",
      "Minibatch accuracy: 85.9%\n",
      "Validation accuracy: 71.4%\n",
      "Minibatch loss at step 20: 25.547718\n",
      "Minibatch accuracy: 97.7%\n",
      "Validation accuracy: 72.9%\n",
      "Minibatch loss at step 30: 0.000000\n",
      "Minibatch accuracy: 100.0%\n",
      "Validation accuracy: 72.9%\n",
      "Minibatch loss at step 40: 0.000000\n",
      "Minibatch accuracy: 100.0%\n",
      "Validation accuracy: 72.9%\n",
      "Minibatch loss at step 50: 0.000000\n",
      "Minibatch accuracy: 100.0%\n",
      "Validation accuracy: 72.9%\n",
      "Minibatch loss at step 60: 0.000000\n",
      "Minibatch accuracy: 100.0%\n",
      "Validation accuracy: 72.9%\n",
      "Minibatch loss at step 70: 0.000000\n",
      "Minibatch accuracy: 100.0%\n",
      "Validation accuracy: 72.9%\n",
      "Minibatch loss at step 80: 0.000000\n",
      "Minibatch accuracy: 100.0%\n",
      "Validation accuracy: 72.9%\n",
      "Minibatch loss at step 90: 0.000000\n",
      "Minibatch accuracy: 100.0%\n",
      "Validation accuracy: 72.9%\n",
      "Test accuracy: 80.5%\n"
     ]
    }
   ],
   "source": [
    "# Number of hidden nodes\n",
    "num_hidden_nodes = 1024\n",
    "batch_size = 128\n",
    "num_steps = 100\n",
    "\n",
    "train_data_trimmed = train_dataset[:128*3]\n",
    "train_labels_trimmed = train_labels[:128*3]\n",
    "\n",
    "graph = tf.Graph()\n",
    "with graph.as_default():\n",
    "    # Input data.\n",
    "    # Load the training, validation and test data into constants that are\n",
    "    # attached to the graph.\n",
    "    tf_train_dataset = tf.placeholder(tf.float32,\n",
    "                                      shape=(batch_size, image_size * image_size))\n",
    "    tf_train_labels = tf.placeholder(tf.float32,\n",
    "                                     shape=(batch_size, num_labels))\n",
    "    tf_valid_dataset = tf.constant(valid_dataset)\n",
    "    tf_test_dataset = tf.constant(test_dataset)\n",
    "    \n",
    "    # Variables for our hidden layer.\n",
    "    W1 = tf.Variable(\n",
    "        tf.truncated_normal([image_size * image_size, num_hidden_nodes]))\n",
    "    B1 = tf.Variable(tf.zeros([num_hidden_nodes]))\n",
    "    \n",
    "    # Our output layer variables, needs to have 10 neurons for our output\n",
    "    W2 = tf.Variable(\n",
    "        tf.truncated_normal([num_hidden_nodes, num_labels]))\n",
    "    B2 = tf.Variable(tf.zeros([10]))\n",
    "    \n",
    "    # Our hidden layer with relus\n",
    "    Y1 = tf.nn.relu(tf.matmul(tf_train_dataset, W1) + B1)\n",
    "  \n",
    "    # Our final layer with logits\n",
    "    Ylogits = tf.matmul(Y1, W2) + B2\n",
    "    \n",
    "    # Loss function (= cross entropy) we'll be minimising\n",
    "    # One function in TF to avoid numerical stability problems with log(0)\n",
    "    # This now includes L2 regularization for our weights: both\n",
    "    # hidden weights W1 and output weights W2 \n",
    "    loss = tf.reduce_mean(\n",
    "        tf.nn.softmax_cross_entropy_with_logits(labels=tf_train_labels, logits=Ylogits))\n",
    "  \n",
    "    # Optimizer.\n",
    "    optimizer = tf.train.GradientDescentOptimizer(0.5).minimize(loss)\n",
    "  \n",
    "    # Predictions for the training, validation, and test data.\n",
    "    train_prediction = tf.nn.softmax(Ylogits)\n",
    "    valid_prediction_hidden = tf.nn.relu(tf.matmul(tf_valid_dataset, W1) + B1)\n",
    "    valid_prediction = tf.nn.softmax(tf.matmul(valid_prediction_hidden, W2) + B2)\n",
    "    test_prediction_hidden = tf.nn.relu(tf.matmul(tf_test_dataset, W1) + B1)\n",
    "    test_prediction = tf.nn.softmax(tf.matmul(test_prediction_hidden, W2) + B2)\n",
    "\n",
    "with tf.Session(graph=graph) as session:\n",
    "    tf.global_variables_initializer().run()\n",
    "    print('Initialized')\n",
    "    \n",
    "    for step in range(num_steps):\n",
    "        offset = (step * batch_size) % (train_labels_trimmed.shape[0] - batch_size)\n",
    "        batch_data = train_data_trimmed[offset:(offset + batch_size), :]\n",
    "        batch_labels = train_labels_trimmed[offset:(offset + batch_size), :]\n",
    "        feed_dict = {tf_train_dataset : batch_data, tf_train_labels : batch_labels}\n",
    "        # Run the computations. We tell .run() that we want to run the optimizer,\n",
    "        # and get the loss value and the training predictions returned as numpy\n",
    "        # arrays.\n",
    "        _, l, predictions = session.run(\n",
    "            [optimizer, loss, train_prediction], feed_dict=feed_dict)\n",
    "        if (step % 10 == 0):\n",
    "            print('Minibatch loss at step %d: %f' % (step, l))\n",
    "            print(\"Minibatch accuracy: %.1f%%\" % accuracy(predictions, batch_labels))\n",
    "            print(\"Validation accuracy: %.1f%%\" % accuracy(valid_prediction.eval(), valid_labels))\n",
    "    print(\"Test accuracy: %.1f%%\" % accuracy(test_prediction.eval(), test_labels))"
   ]
  },
  {
   "cell_type": "markdown",
   "metadata": {
    "deletable": true,
    "editable": true
   },
   "source": [
    "We've restricted our training set to just 3 batches, and whilst we've gotten minibatch accuracy of 100% quite fast, our final test accuracy is way below what we'd have expected (80.5%). What happened is that we've completely fitted our model to our training data, fully memorizing every single letter. Whilst this works great for our training data (100%) this is failing quite fast on our test set (80.5%)."
   ]
  },
  {
   "cell_type": "markdown",
   "metadata": {
    "colab_type": "text",
    "deletable": true,
    "editable": true,
    "id": "ww3SCBUdlkRc"
   },
   "source": [
    "---\n",
    "Problem 3\n",
    "---------\n",
    "Introduce Dropout on the hidden layer of the neural network. Remember: Dropout should only be introduced during training, not evaluation, otherwise your evaluation results would be stochastic as well. TensorFlow provides `nn.dropout()` for that, but you have to make sure it's only inserted during training.\n",
    "\n",
    "What happens to our extreme overfitting case?\n",
    "\n",
    "---"
   ]
  },
  {
   "cell_type": "code",
   "execution_count": 28,
   "metadata": {
    "collapsed": false,
    "deletable": true,
    "editable": true
   },
   "outputs": [
    {
     "name": "stdout",
     "output_type": "stream",
     "text": [
      "Initialized\n",
      "Minibatch loss at step 0: 521.276245\n",
      "Minibatch accuracy: 12.5%\n",
      "Validation accuracy: 25.4%\n",
      "Minibatch loss at step 20: 57.695496\n",
      "Minibatch accuracy: 88.3%\n",
      "Validation accuracy: 71.0%\n",
      "Minibatch loss at step 40: 2.548073\n",
      "Minibatch accuracy: 96.1%\n",
      "Validation accuracy: 73.8%\n",
      "Minibatch loss at step 60: 0.000006\n",
      "Minibatch accuracy: 100.0%\n",
      "Validation accuracy: 74.7%\n",
      "Minibatch loss at step 80: 0.049048\n",
      "Minibatch accuracy: 99.2%\n",
      "Validation accuracy: 74.3%\n",
      "Minibatch loss at step 100: 0.000000\n",
      "Minibatch accuracy: 100.0%\n",
      "Validation accuracy: 74.0%\n",
      "Minibatch loss at step 120: 0.000000\n",
      "Minibatch accuracy: 100.0%\n",
      "Validation accuracy: 74.3%\n",
      "Minibatch loss at step 140: 0.000000\n",
      "Minibatch accuracy: 100.0%\n",
      "Validation accuracy: 74.9%\n",
      "Minibatch loss at step 160: 1.141832\n",
      "Minibatch accuracy: 98.4%\n",
      "Validation accuracy: 75.1%\n",
      "Minibatch loss at step 180: 0.000000\n",
      "Minibatch accuracy: 100.0%\n",
      "Validation accuracy: 74.9%\n",
      "Test accuracy: 82.9%\n"
     ]
    }
   ],
   "source": [
    "# Number of hidden nodes\n",
    "num_hidden_nodes = 1024\n",
    "batch_size = 128\n",
    "num_steps = 200\n",
    "\n",
    "train_data_trimmed = train_dataset[:128*3]\n",
    "train_labels_trimmed = train_labels[:128*3]\n",
    "\n",
    "# Our dropout probabibility to keep units, meaning we'll shoot randomly 25% of our units\n",
    "dropout = 0.5\n",
    "\n",
    "graph = tf.Graph()\n",
    "with graph.as_default():\n",
    "    # Input data.\n",
    "    # Load the training, validation and test data into constants that are\n",
    "    # attached to the graph.\n",
    "    tf_train_dataset = tf.placeholder(tf.float32,\n",
    "                                      shape=(batch_size, image_size * image_size))\n",
    "    tf_train_labels = tf.placeholder(tf.float32,\n",
    "                                     shape=(batch_size, num_labels))\n",
    "    tf_valid_dataset = tf.constant(valid_dataset)\n",
    "    tf_test_dataset = tf.constant(test_dataset)\n",
    "    # We will learn our regularization parameter, rather than hardcoding this\n",
    "    tf_dropout = tf.placeholder(tf.float32)\n",
    "    \n",
    "    # Variables for our hidden layer.\n",
    "    W1 = tf.Variable(\n",
    "        tf.truncated_normal([image_size * image_size, num_hidden_nodes]))\n",
    "    B1 = tf.Variable(tf.zeros([num_hidden_nodes]))\n",
    "    \n",
    "    # Our output layer variables, needs to have 10 neurons for our output\n",
    "    W2 = tf.Variable(\n",
    "        tf.truncated_normal([num_hidden_nodes, num_labels]))\n",
    "    B2 = tf.Variable(tf.zeros([10]))\n",
    "    \n",
    "    # Our hidden layer with relus\n",
    "    Y1 = tf.nn.relu(tf.matmul(tf_train_dataset, W1) + B1)\n",
    "    \n",
    "    # Introduce dropout on our hidden layer\n",
    "    Y1_dropout = tf.nn.dropout(Y1, tf_dropout)\n",
    "  \n",
    "    # Our final layer with logits\n",
    "    Ylogits = tf.matmul(Y1_dropout, W2) + B2\n",
    "    \n",
    "    # Loss function (= cross entropy) we'll be minimising\n",
    "    # One function in TF to avoid numerical stability problems with log(0)\n",
    "    # This now includes L2 regularization for our weights: both\n",
    "    # hidden weights W1 and output weights W2 \n",
    "    loss = tf.reduce_mean(\n",
    "        tf.nn.softmax_cross_entropy_with_logits(labels=tf_train_labels, logits=Ylogits))\n",
    "  \n",
    "    # Optimizer.\n",
    "    optimizer = tf.train.GradientDescentOptimizer(0.5).minimize(loss)\n",
    "  \n",
    "    # Predictions for the training, validation, and test data.\n",
    "    train_prediction = tf.nn.softmax(Ylogits)\n",
    "    valid_prediction_hidden = tf.nn.relu(tf.matmul(tf_valid_dataset, W1) + B1)\n",
    "    valid_prediction = tf.nn.softmax(tf.matmul(valid_prediction_hidden, W2) + B2)\n",
    "    test_prediction_hidden = tf.nn.relu(tf.matmul(tf_test_dataset, W1) + B1)\n",
    "    test_prediction = tf.nn.softmax(tf.matmul(test_prediction_hidden, W2) + B2)\n",
    "\n",
    "with tf.Session(graph=graph) as session:\n",
    "    tf.global_variables_initializer().run()\n",
    "    print('Initialized')\n",
    "    \n",
    "    for step in range(num_steps):\n",
    "        offset = (step * batch_size) % (train_labels_trimmed.shape[0] - batch_size)\n",
    "        batch_data = train_data_trimmed[offset:(offset + batch_size), :]\n",
    "        batch_labels = train_labels_trimmed[offset:(offset + batch_size), :]\n",
    "        feed_dict = {tf_train_dataset : batch_data, \n",
    "                     tf_train_labels : batch_labels, \n",
    "                     tf_dropout: dropout}\n",
    "        # Run the computations. We tell .run() that we want to run the optimizer,\n",
    "        # and get the loss value and the training predictions returned as numpy\n",
    "        # arrays.\n",
    "        _, l, predictions = session.run(\n",
    "            [optimizer, loss, train_prediction], feed_dict=feed_dict)\n",
    "        if (step % 20 == 0):\n",
    "            print('Minibatch loss at step %d: %f' % (step, l))\n",
    "            print(\"Minibatch accuracy: %.1f%%\" % accuracy(predictions, batch_labels))\n",
    "            print(\"Validation accuracy: %.1f%%\" % accuracy(valid_prediction.eval(), valid_labels))\n",
    "    print(\"Test accuracy: %.1f%%\" % accuracy(test_prediction.eval(), test_labels))"
   ]
  },
  {
   "cell_type": "markdown",
   "metadata": {
    "deletable": true,
    "editable": true
   },
   "source": [
    "A little bit better, and our net is now more capable of generalisation although it's still far off of being good, mostly because our training set is really too small."
   ]
  },
  {
   "cell_type": "markdown",
   "metadata": {
    "colab_type": "text",
    "deletable": true,
    "editable": true,
    "id": "-b1hTz3VWZjw"
   },
   "source": [
    "---\n",
    "Problem 4\n",
    "---------\n",
    "\n",
    "Try to get the best performance you can using a multi-layer model! The best reported test accuracy using a deep network is [97.1%](http://yaroslavvb.blogspot.com/2011/09/notmnist-dataset.html?showComment=1391023266211#c8758720086795711595).\n",
    "\n",
    "One avenue you can explore is to add multiple layers.\n",
    "\n",
    "Another one is to use learning rate decay:\n",
    "\n",
    "    global_step = tf.Variable(0)  # count the number of steps taken.\n",
    "    learning_rate = tf.train.exponential_decay(0.5, global_step, ...)\n",
    "    optimizer = tf.train.GradientDescentOptimizer(learning_rate).minimize(loss, global_step=global_step)\n",
    " \n",
    " ---\n"
   ]
  },
  {
   "cell_type": "code",
   "execution_count": 45,
   "metadata": {
    "collapsed": false
   },
   "outputs": [
    {
     "name": "stdout",
     "output_type": "stream",
     "text": [
      "Initialized\n",
      "Minibatch loss at step 0: 2.742471\n",
      "Minibatch accuracy: 9.0%\n",
      "Validation accuracy: 20.9%\n",
      "Minibatch loss at step 500: 0.673741\n",
      "Minibatch accuracy: 82.0%\n",
      "Validation accuracy: 84.2%\n",
      "Minibatch loss at step 1000: 0.441843\n",
      "Minibatch accuracy: 87.1%\n",
      "Validation accuracy: 86.2%\n",
      "Minibatch loss at step 1500: 0.563649\n",
      "Minibatch accuracy: 86.3%\n",
      "Validation accuracy: 87.1%\n",
      "Minibatch loss at step 2000: 0.399807\n",
      "Minibatch accuracy: 85.9%\n",
      "Validation accuracy: 87.3%\n",
      "Minibatch loss at step 2500: 0.494128\n",
      "Minibatch accuracy: 84.0%\n",
      "Validation accuracy: 87.8%\n",
      "Minibatch loss at step 3000: 0.475884\n",
      "Minibatch accuracy: 86.7%\n",
      "Validation accuracy: 88.1%\n",
      "Minibatch loss at step 3500: 0.427772\n",
      "Minibatch accuracy: 87.1%\n",
      "Validation accuracy: 88.2%\n",
      "Minibatch loss at step 4000: 0.372438\n",
      "Minibatch accuracy: 87.1%\n",
      "Validation accuracy: 88.4%\n",
      "Minibatch loss at step 4500: 0.396979\n",
      "Minibatch accuracy: 88.7%\n",
      "Validation accuracy: 88.6%\n",
      "Minibatch loss at step 5000: 0.444498\n",
      "Minibatch accuracy: 86.7%\n",
      "Validation accuracy: 88.8%\n",
      "Minibatch loss at step 5500: 0.415580\n",
      "Minibatch accuracy: 88.3%\n",
      "Validation accuracy: 88.7%\n",
      "Minibatch loss at step 6000: 0.448655\n",
      "Minibatch accuracy: 87.9%\n",
      "Validation accuracy: 88.7%\n",
      "Minibatch loss at step 6500: 0.396504\n",
      "Minibatch accuracy: 88.7%\n",
      "Validation accuracy: 88.9%\n",
      "Minibatch loss at step 7000: 0.286706\n",
      "Minibatch accuracy: 91.4%\n",
      "Validation accuracy: 88.9%\n",
      "Minibatch loss at step 7500: 0.332397\n",
      "Minibatch accuracy: 90.6%\n",
      "Validation accuracy: 88.9%\n",
      "Minibatch loss at step 8000: 0.401409\n",
      "Minibatch accuracy: 88.3%\n",
      "Validation accuracy: 89.0%\n",
      "Minibatch loss at step 8500: 0.299521\n",
      "Minibatch accuracy: 90.2%\n",
      "Validation accuracy: 89.1%\n",
      "Minibatch loss at step 9000: 0.361511\n",
      "Minibatch accuracy: 89.8%\n",
      "Validation accuracy: 89.2%\n",
      "Minibatch loss at step 9500: 0.262223\n",
      "Minibatch accuracy: 90.6%\n",
      "Validation accuracy: 89.1%\n",
      "Test accuracy: 94.9%\n"
     ]
    }
   ],
   "source": [
    "# Number of hidden nodes\n",
    "num_hidden_nodes = 1024\n",
    "num_hidden_nodes_2 = 256\n",
    "num_hidden_nodes_3 = 128\n",
    "batch_size = 256\n",
    "num_steps = 10000\n",
    "\n",
    "# Our dropout probabibility to keep units, meaning we'll shoot randomly 25% of our units\n",
    "dropout = 0.5\n",
    "\n",
    "graph = tf.Graph()\n",
    "with graph.as_default():\n",
    "    # Input data.\n",
    "    # Load the training, validation and test data into constants that are\n",
    "    # attached to the graph.\n",
    "    tf_train_dataset = tf.placeholder(tf.float32,\n",
    "                                      shape=(batch_size, image_size * image_size))\n",
    "    tf_train_labels = tf.placeholder(tf.float32,\n",
    "                                     shape=(batch_size, num_labels))\n",
    "    tf_valid_dataset = tf.constant(valid_dataset)\n",
    "    tf_test_dataset = tf.constant(test_dataset)\n",
    "    \n",
    "    # For learning rate decay\n",
    "    global_step = tf.Variable(0)  # count the number of steps taken.\n",
    "    \n",
    "    W1 = tf.Variable(\n",
    "        tf.truncated_normal([image_size * image_size, num_hidden_nodes],\n",
    "                           stddev=np.sqrt(2.0 / (image_size * image_size))))\n",
    "    B1 = tf.Variable(tf.zeros([num_hidden_nodes]))\n",
    "    \n",
    "    W2 = tf.Variable(\n",
    "        tf.truncated_normal([num_hidden_nodes, num_hidden_nodes_2],\n",
    "                           stddev=np.sqrt(2.0 / num_hidden_nodes)))\n",
    "    B2 = tf.Variable(tf.zeros([num_hidden_nodes_2]))\n",
    "    \n",
    "    W3 = tf.Variable(\n",
    "        tf.truncated_normal([num_hidden_nodes_2, num_hidden_nodes_3],\n",
    "                           stddev=np.sqrt(2.0 / num_hidden_nodes_2)))\n",
    "    B3 = tf.Variable(tf.zeros([num_hidden_nodes_3]))\n",
    "    \n",
    "    # Our output layer variables, needs to have 10 neurons for our output\n",
    "    W4 = tf.Variable(\n",
    "        tf.truncated_normal([num_hidden_nodes_3, num_labels],\n",
    "                           stddev=np.sqrt(2.0 / num_hidden_nodes_3)))\n",
    "    B4 = tf.Variable(tf.zeros([10]))\n",
    "    \n",
    "    # Our first hidden layer with relus\n",
    "    Y1 = tf.nn.relu(tf.matmul(tf_train_dataset, W1) + B1)\n",
    "    \n",
    "    # Introduce dropout on our hidden layer\n",
    "    Y1_dropout = tf.nn.dropout(Y1, dropout)\n",
    "    \n",
    "    # Second hidden layer with relus\n",
    "    Y2 = tf.nn.relu(tf.matmul(Y1_dropout, W2) + B2)\n",
    "    \n",
    "    # Apply dropout again\n",
    "    Y2_dropout = tf.nn.dropout(Y2, dropout) \n",
    "    \n",
    "    # Third hidden layer with relus\n",
    "    Y3 = tf.nn.relu(tf.matmul(Y2_dropout, W3) + B3)\n",
    "    \n",
    "    # Apply dropout again\n",
    "    Y3_dropout = tf.nn.dropout(Y3, dropout) \n",
    "    \n",
    "    # Our final layer with logits\n",
    "    Ylogits = tf.matmul(Y3_dropout, W4) + B4\n",
    "    \n",
    "    # Loss function (= cross entropy) we'll be minimising\n",
    "    # One function in TF to avoid numerical stability problems with log(0)\n",
    "    # This now includes L2 regularization for our weights: both\n",
    "    # hidden weights W1 and output weights W2 \n",
    "    loss = tf.reduce_mean(\n",
    "        tf.nn.softmax_cross_entropy_with_logits(labels=tf_train_labels, logits=Ylogits))\n",
    "  \n",
    "    # Optimizer.\n",
    "    learning_rate = tf.train.exponential_decay(0.5, global_step, 1000, 0.65, staircase=True)\n",
    "    optimizer = tf.train.GradientDescentOptimizer(learning_rate).minimize(loss, global_step=global_step)\n",
    "  \n",
    "    # Predictions for the training, validation, and test data.\n",
    "    train_prediction = tf.nn.softmax(Ylogits)\n",
    "    valid_prediction_hidden = tf.nn.relu(tf.matmul(tf_valid_dataset, W1) + B1)\n",
    "    valid_prediction_hidden2 = tf.nn.relu(tf.matmul(valid_prediction_hidden, W2) + B2)\n",
    "    valid_prediction_hidden3 = tf.nn.relu(tf.matmul(valid_prediction_hidden2, W3) + B3)\n",
    "    valid_prediction = tf.nn.softmax(tf.matmul(valid_prediction_hidden3, W4) + B4)\n",
    "    test_prediction_hidden = tf.nn.relu(tf.matmul(tf_test_dataset, W1) + B1)\n",
    "    test_prediction_hidden2 = tf.nn.relu(tf.matmul(test_prediction_hidden, W2) + B2)\n",
    "    test_prediction_hidden3 = tf.nn.relu(tf.matmul(test_prediction_hidden2, W3) + B3) \n",
    "    test_prediction = tf.nn.softmax(tf.matmul(test_prediction_hidden3, W4) + B4)\n",
    "\n",
    "with tf.Session(graph=graph) as session:\n",
    "    tf.global_variables_initializer().run()\n",
    "    print('Initialized')\n",
    "    \n",
    "    for step in range(num_steps):\n",
    "        offset = (step * batch_size) % (train_labels.shape[0] - batch_size)\n",
    "        batch_data = train_dataset[offset:(offset + batch_size), :]\n",
    "        batch_labels = train_labels[offset:(offset + batch_size), :]\n",
    "        feed_dict = {tf_train_dataset : batch_data, \n",
    "                     tf_train_labels : batch_labels}\n",
    "        # Run the computations. We tell .run() that we want to run the optimizer,\n",
    "        # and get the loss value and the training predictions returned as numpy\n",
    "        # arrays.\n",
    "        _, l, predictions = session.run(\n",
    "            [optimizer, loss, train_prediction], feed_dict=feed_dict)\n",
    "        if (step % 500 == 0):\n",
    "            print('Minibatch loss at step %d: %f' % (step, l))\n",
    "            print(\"Minibatch accuracy: %.1f%%\" % accuracy(predictions, batch_labels))\n",
    "            print(\"Validation accuracy: %.1f%%\" % accuracy(valid_prediction.eval(), valid_labels))\n",
    "    print(\"Test accuracy: %.1f%%\" % accuracy(test_prediction.eval(), test_labels))"
   ]
  },
  {
   "cell_type": "markdown",
   "metadata": {},
   "source": [
    "Reached 94.9% accuracy, not bad!"
   ]
  },
  {
   "cell_type": "code",
   "execution_count": null,
   "metadata": {
    "collapsed": true
   },
   "outputs": [],
   "source": [
    ""
   ]
  }
 ],
 "metadata": {
  "colab": {
   "default_view": {},
   "name": "3_regularization.ipynb",
   "provenance": [],
   "version": "0.3.2",
   "views": {}
  },
  "kernelspec": {
   "display_name": "Python 2",
   "language": "python",
   "name": "python2"
  },
  "language_info": {
   "codemirror_mode": {
    "name": "ipython",
    "version": 2.0
   },
   "file_extension": ".py",
   "mimetype": "text/x-python",
   "name": "python",
   "nbconvert_exporter": "python",
   "pygments_lexer": "ipython2",
   "version": "2.7.6"
  }
 },
 "nbformat": 4,
 "nbformat_minor": 0
}